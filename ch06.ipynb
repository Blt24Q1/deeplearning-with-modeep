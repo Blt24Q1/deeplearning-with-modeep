{
 "cells": [
  {
   "cell_type": "markdown",
   "id": "14f3d9bb",
   "metadata": {},
   "source": [
    "# 6장. 로지스틱 회귀 모델: 참 거짓 판단하기"
   ]
  },
  {
   "cell_type": "markdown",
   "id": "9ebeab00",
   "metadata": {},
   "source": [
    "[<img src=\"https://raw.githubusercontent.com/taehojo/taehojo.github.io/master/assets/images/linktocolab.png\" align=\"left\"/> ](https://colab.research.google.com/github/taehojo/deeplearning/blob/master/colab/ch06-colab.ipynb)"
   ]
  },
  {
   "cell_type": "markdown",
   "id": "31aa0af8",
   "metadata": {},
   "source": [
    "## 5. 텐서플로에서 실행하는 로지스틱 회귀 모델"
   ]
  },
  {
   "cell_type": "markdown",
   "id": "3bd0ceed",
   "metadata": {},
   "source": [
    "### 1.환경 준비"
   ]
  },
  {
   "cell_type": "code",
   "execution_count": 1,
   "id": "38ce6ac5",
   "metadata": {},
   "outputs": [],
   "source": [
    "import numpy as np\n",
    "import matplotlib.pyplot as plt\n",
    "from tensorflow.keras.models import Sequential\n",
    "from tensorflow.keras.layers import Input, Dense"
   ]
  },
  {
   "cell_type": "markdown",
   "id": "00f9c412",
   "metadata": {},
   "source": [
    "### 2. 데이터 준비"
   ]
  },
  {
   "cell_type": "code",
   "execution_count": 2,
   "id": "92e915e0",
   "metadata": {},
   "outputs": [],
   "source": [
    "x = np.array([2, 4, 6, 8, 10, 12, 14])\n",
    "y = np.array([0, 0, 0, 1, 1, 1, 1]) # 0: 불합격, 1: 합격"
   ]
  },
  {
   "cell_type": "markdown",
   "id": "605e6ad0",
   "metadata": {},
   "source": [
    "### 3. 모델 실행"
   ]
  },
  {
   "cell_type": "code",
   "execution_count": 4,
   "id": "f2735f67",
   "metadata": {},
   "outputs": [],
   "source": [
    "model = Sequential()\n",
    "\n",
    "model.add(Input(shape=(1,)))\n",
    "model.add(Dense(1, activation='sigmoid'))\n",
    "\n",
    "# 이진 분류 손실 함수 - binary_crossentropy\n",
    "# 교차 엔트로피 오차 함수를 이용하기 위하여 'binary_crossentropy'로 설정합니다. \n",
    "model.compile(optimizer='sgd' ,loss='binary_crossentropy')\n",
    "\n",
    "history = model.fit(x, y, epochs=5000, verbose=0)"
   ]
  },
  {
   "cell_type": "code",
   "execution_count": 8,
   "id": "9c7920fc",
   "metadata": {},
   "outputs": [
    {
     "name": "stdout",
     "output_type": "stream",
     "text": [
      "Epoch: 1, Loss: 1.3898646831512451\n",
      "Epoch: 101, Loss: 0.5131894946098328\n",
      "Epoch: 201, Loss: 0.49090877175331116\n",
      "Epoch: 301, Loss: 0.4704326093196869\n",
      "Epoch: 401, Loss: 0.45160260796546936\n",
      "Epoch: 501, Loss: 0.4342697262763977\n",
      "Epoch: 601, Loss: 0.418295681476593\n",
      "Epoch: 701, Loss: 0.40355315804481506\n",
      "Epoch: 801, Loss: 0.3899259567260742\n",
      "Epoch: 901, Loss: 0.37730857729911804\n",
      "Epoch: 1001, Loss: 0.3656058609485626\n",
      "Epoch: 1101, Loss: 0.35473185777664185\n",
      "Epoch: 1201, Loss: 0.3446095585823059\n",
      "Epoch: 1301, Loss: 0.33516964316368103\n",
      "Epoch: 1401, Loss: 0.3263501226902008\n",
      "Epoch: 1501, Loss: 0.31809547543525696\n",
      "Epoch: 1601, Loss: 0.3103558123111725\n",
      "Epoch: 1701, Loss: 0.30308642983436584\n",
      "Epoch: 1801, Loss: 0.296247273683548\n",
      "Epoch: 1901, Loss: 0.28980255126953125\n",
      "Epoch: 2001, Loss: 0.2837195098400116\n",
      "Epoch: 2101, Loss: 0.2779691219329834\n",
      "Epoch: 2201, Loss: 0.2725251317024231\n",
      "Epoch: 2301, Loss: 0.26736393570899963\n",
      "Epoch: 2401, Loss: 0.26246386766433716\n",
      "Epoch: 2501, Loss: 0.25780564546585083\n",
      "Epoch: 2601, Loss: 0.2533716559410095\n",
      "Epoch: 2701, Loss: 0.2491457462310791\n",
      "Epoch: 2801, Loss: 0.24511350691318512\n",
      "Epoch: 2901, Loss: 0.24126151204109192\n",
      "Epoch: 3001, Loss: 0.23757760226726532\n",
      "Epoch: 3101, Loss: 0.23405085504055023\n",
      "Epoch: 3201, Loss: 0.2306710183620453\n",
      "Epoch: 3301, Loss: 0.22742876410484314\n",
      "Epoch: 3401, Loss: 0.2243155539035797\n",
      "Epoch: 3501, Loss: 0.22132351994514465\n",
      "Epoch: 3601, Loss: 0.21844537556171417\n",
      "Epoch: 3701, Loss: 0.21567443013191223\n",
      "Epoch: 3801, Loss: 0.21300454437732697\n",
      "Epoch: 3901, Loss: 0.21043001115322113\n",
      "Epoch: 4001, Loss: 0.20794549584388733\n",
      "Epoch: 4101, Loss: 0.2055460661649704\n",
      "Epoch: 4201, Loss: 0.203227236866951\n",
      "Epoch: 4301, Loss: 0.20098468661308289\n",
      "Epoch: 4401, Loss: 0.1988145262002945\n",
      "Epoch: 4501, Loss: 0.19671304523944855\n",
      "Epoch: 4601, Loss: 0.19467678666114807\n",
      "Epoch: 4701, Loss: 0.19270257651805878\n",
      "Epoch: 4801, Loss: 0.1907874345779419\n",
      "Epoch: 4901, Loss: 0.1889284998178482\n",
      "Epoch: 5000, Loss: 0.18714098632335663\n"
     ]
    }
   ],
   "source": [
    "for epoch, loss in enumerate(history.history['loss']):\n",
    "    if epoch % 100 == 0:\n",
    "        print(f\"Epoch: {epoch + 1}, Loss: {loss}\")\n",
    "else:\n",
    "    print(f\"Epoch: {epoch + 1}, Loss: {loss}\")"
   ]
  },
  {
   "cell_type": "markdown",
   "id": "514ecfcd",
   "metadata": {},
   "source": [
    "### 4. 모델 테스트"
   ]
  },
  {
   "cell_type": "code",
   "execution_count": 9,
   "id": "669c2350",
   "metadata": {},
   "outputs": [
    {
     "name": "stdout",
     "output_type": "stream",
     "text": [
      "1/1 [==============================] - 0s 57ms/step\n"
     ]
    },
    {
     "data": {
      "image/png": "[encoded data removed]",
      "text/plain": [
       "<Figure size 640x480 with 1 Axes>"
      ]
     },
     "metadata": {},
     "output_type": "display_data"
    }
   ],
   "source": [
    "#그래프로 확인해 봅니다.\n",
    "\n",
    "plt.scatter(x, y)\n",
    "plt.plot(x, model.predict(x),'r')\n",
    "plt.show()"
   ]
  },
  {
   "cell_type": "code",
   "execution_count": 11,
   "id": "e4b6209f",
   "metadata": {},
   "outputs": [
    {
     "name": "stdout",
     "output_type": "stream",
     "text": [
      "1/1 [==============================] - 0s 19ms/step\n",
      "7시간을 공부할 경우, 합격 예상 확률은 59.6%입니다\n"
     ]
    }
   ],
   "source": [
    "#임의의 학습시간을 집어넣어 합격 예상 확률을 예측해 보겠습니다.\n",
    "\n",
    "hour = 7\n",
    "prediction = model.predict(np.array([hour]))\n",
    "\n",
    "print(\"%.f시간을 공부할 경우, 합격 예상 확률은 %.01f%%입니다\" % (hour, prediction * 100))"
   ]
  },
  {
   "cell_type": "code",
   "execution_count": null,
   "id": "bcffd088",
   "metadata": {},
   "outputs": [],
   "source": []
  }
 ],
 "metadata": {
  "kernelspec": {
   "display_name": "Python 3 (ipykernel)",
   "language": "python",
   "name": "python3"
  },
  "language_info": {
   "codemirror_mode": {
    "name": "ipython",
    "version": 3
   },
   "file_extension": ".py",
   "mimetype": "text/x-python",
   "name": "python",
   "nbconvert_exporter": "python",
   "pygments_lexer": "ipython3",
   "version": "3.10.9"
  }
 },
 "nbformat": 4,
 "nbformat_minor": 5
}
